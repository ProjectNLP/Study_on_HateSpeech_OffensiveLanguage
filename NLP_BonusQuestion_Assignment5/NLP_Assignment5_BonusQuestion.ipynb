{
 "cells": [
  {
   "cell_type": "code",
   "execution_count": 21,
   "metadata": {},
   "outputs": [],
   "source": [
    "import pickle, glob\n",
    "import numpy as np\n",
    "import pandas as pd\n",
    "from sklearn.model_selection import train_test_split\n",
    "from sklearn.linear_model import LogisticRegression\n",
    "from sklearn.metrics import accuracy_score, confusion_matrix, classification_report\n",
    "from sklearn.ensemble import RandomForestClassifier"
   ]
  },
  {
   "cell_type": "markdown",
   "metadata": {},
   "source": [
    "### Loading the Data"
   ]
  },
  {
   "cell_type": "code",
   "execution_count": 2,
   "metadata": {},
   "outputs": [],
   "source": [
    "path = '*.bin'\n",
    "files = glob.glob(path)\n",
    "signal = [0,0,0,0,0]\n",
    "for i,f in enumerate(files):\n",
    "    with open(f, 'rb') as fp:\n",
    "        signal[i] = pickle.load(fp)"
   ]
  },
  {
   "cell_type": "code",
   "execution_count": 3,
   "metadata": {},
   "outputs": [],
   "source": [
    "signal1 = np.array(signal[0], dtype = 'O')\n",
    "signal2 = np.array(signal[1], dtype = 'O')\n",
    "signal3 = np.array(signal[2], dtype = 'O')\n",
    "signal4 = np.array(signal[3], dtype = 'O')\n",
    "signal5 = np.array(signal[4], dtype = 'O')"
   ]
  },
  {
   "cell_type": "markdown",
   "metadata": {},
   "source": [
    "### Data Preprocessing"
   ]
  },
  {
   "cell_type": "code",
   "execution_count": 4,
   "metadata": {},
   "outputs": [],
   "source": [
    "signal1 = pd.DataFrame(signal1, columns = ['X'])\n",
    "signal1['Y'] = 0\n",
    "\n",
    "signal2 = pd.DataFrame(signal2, columns = ['X'])\n",
    "signal2['Y'] = 1\n",
    "\n",
    "signal3 = pd.DataFrame(signal3, columns = ['X'])\n",
    "signal3['Y'] = 2\n",
    "\n",
    "signal4 = pd.DataFrame(signal4, columns = ['X'])\n",
    "signal4['Y'] = 3\n",
    "\n",
    "signal5 = pd.DataFrame(signal5, columns = ['X'])\n",
    "signal5['Y'] = 4"
   ]
  },
  {
   "cell_type": "code",
   "execution_count": 5,
   "metadata": {},
   "outputs": [],
   "source": [
    "data = signal1.append(signal2, ignore_index = True)\n",
    "data = data.append(signal3, ignore_index = True)\n",
    "data = data.append(signal4, ignore_index = True)\n",
    "data = data.append(signal5, ignore_index = True)"
   ]
  },
  {
   "cell_type": "code",
   "execution_count": 6,
   "metadata": {},
   "outputs": [],
   "source": [
    "length = data['X'].str.len()\n",
    "m= max(length)\n",
    "\n",
    "x = []\n",
    "for i in range(0,len(data)):\n",
    "    i_length = len(data['X'][i])\n",
    "    old = data['X'][i]\n",
    "    if i_length < m:\n",
    "        new = [0] * (m - i_length)\n",
    "        x.append(old + new)\n",
    "    else:\n",
    "        x.append(old)\n",
    "for i in range(0,len(data)):\n",
    "    t = [str(j) for j in data['X'][i]]\n",
    "    data['X'][i] = ' '.join(t)\n",
    "\n",
    "    \n",
    "x = data['X'].values\n",
    "y = data['Y'].values\n"
   ]
  },
  {
   "cell_type": "markdown",
   "metadata": {},
   "source": [
    "### Feature Selection"
   ]
  },
  {
   "cell_type": "code",
   "execution_count": 7,
   "metadata": {},
   "outputs": [
    {
     "name": "stderr",
     "output_type": "stream",
     "text": [
      "<ipython-input-7-038f0ebf86b7>:3: SettingWithCopyWarning: \n",
      "A value is trying to be set on a copy of a slice from a DataFrame\n",
      "\n",
      "See the caveats in the documentation: https://pandas.pydata.org/pandas-docs/stable/user_guide/indexing.html#returning-a-view-versus-a-copy\n",
      "  data['X'][i] = ' '.join(t)\n"
     ]
    }
   ],
   "source": [
    "from sklearn.feature_extraction.text import TfidfVectorizer\n",
    "tf = TfidfVectorizer()\n",
    "x = tf.fit_transform(x).toarray()"
   ]
  },
  {
   "cell_type": "markdown",
   "metadata": {},
   "source": [
    "### Splitting the dataset into train and test"
   ]
  },
  {
   "cell_type": "code",
   "execution_count": 8,
   "metadata": {},
   "outputs": [],
   "source": [
    "x_train, x_test, y_train, y_test = train_test_split(x, y, test_size = 0.25, random_state = 0)"
   ]
  },
  {
   "cell_type": "markdown",
   "metadata": {},
   "source": [
    "### Logistic Regression"
   ]
  },
  {
   "cell_type": "code",
   "execution_count": 9,
   "metadata": {},
   "outputs": [
    {
     "data": {
      "text/plain": [
       "LogisticRegression(n_jobs=-1, random_state=0)"
      ]
     },
     "execution_count": 9,
     "metadata": {},
     "output_type": "execute_result"
    }
   ],
   "source": [
    "lr = LogisticRegression(random_state=0, n_jobs=-1 )\n",
    "lr.fit(x_train,y_train)"
   ]
  },
  {
   "cell_type": "code",
   "execution_count": 10,
   "metadata": {},
   "outputs": [],
   "source": [
    "y_pred = lr.predict(x_test)"
   ]
  },
  {
   "cell_type": "code",
   "execution_count": 12,
   "metadata": {},
   "outputs": [
    {
     "name": "stderr",
     "output_type": "stream",
     "text": [
      "D:\\anaconda3\\envs\\pytorch\\lib\\site-packages\\sklearn\\metrics\\_classification.py:1245: UndefinedMetricWarning: Precision and F-score are ill-defined and being set to 0.0 in labels with no predicted samples. Use `zero_division` parameter to control this behavior.\n",
      "  _warn_prf(average, modifier, msg_start, len(result))\n",
      "D:\\anaconda3\\envs\\pytorch\\lib\\site-packages\\sklearn\\metrics\\_classification.py:1245: UndefinedMetricWarning: Precision and F-score are ill-defined and being set to 0.0 in labels with no predicted samples. Use `zero_division` parameter to control this behavior.\n",
      "  _warn_prf(average, modifier, msg_start, len(result))\n",
      "D:\\anaconda3\\envs\\pytorch\\lib\\site-packages\\sklearn\\metrics\\_classification.py:1245: UndefinedMetricWarning: Precision and F-score are ill-defined and being set to 0.0 in labels with no predicted samples. Use `zero_division` parameter to control this behavior.\n",
      "  _warn_prf(average, modifier, msg_start, len(result))\n"
     ]
    }
   ],
   "source": [
    "cm = confusion_matrix(y_test,y_pred)\n",
    "score = accuracy_score(y_test,y_pred)\n",
    "report = classification_report(y_test, y_pred)"
   ]
  },
  {
   "cell_type": "code",
   "execution_count": 13,
   "metadata": {},
   "outputs": [
    {
     "data": {
      "text/plain": [
       "0.30566037735849055"
      ]
     },
     "execution_count": 13,
     "metadata": {},
     "output_type": "execute_result"
    }
   ],
   "source": [
    "score"
   ]
  },
  {
   "cell_type": "code",
   "execution_count": 14,
   "metadata": {},
   "outputs": [
    {
     "data": {
      "text/plain": [
       "array([[66,  0,  5,  0,  0],\n",
       "       [30,  0,  7,  0,  3],\n",
       "       [47,  0,  9,  8,  0],\n",
       "       [53,  0,  9,  0,  0],\n",
       "       [21,  0,  1,  0,  6]], dtype=int64)"
      ]
     },
     "execution_count": 14,
     "metadata": {},
     "output_type": "execute_result"
    }
   ],
   "source": [
    "cm"
   ]
  },
  {
   "cell_type": "markdown",
   "metadata": {},
   "source": [
    "### Random Forest"
   ]
  },
  {
   "cell_type": "code",
   "execution_count": 16,
   "metadata": {},
   "outputs": [
    {
     "data": {
      "text/plain": [
       "RandomForestClassifier(n_jobs=-1, random_state=0)"
      ]
     },
     "execution_count": 16,
     "metadata": {},
     "output_type": "execute_result"
    }
   ],
   "source": [
    "rf = RandomForestClassifier(n_estimators=100, random_state = 0 , n_jobs = -1 )\n",
    "rf.fit(x_train,y_train)"
   ]
  },
  {
   "cell_type": "code",
   "execution_count": 17,
   "metadata": {},
   "outputs": [],
   "source": [
    "y_pred = rf.predict(x_test)"
   ]
  },
  {
   "cell_type": "code",
   "execution_count": 18,
   "metadata": {},
   "outputs": [],
   "source": [
    "cm = confusion_matrix(y_test,y_pred)\n",
    "score = accuracy_score(y_test,y_pred)\n",
    "report = classification_report(y_test, y_pred)"
   ]
  },
  {
   "cell_type": "code",
   "execution_count": 19,
   "metadata": {},
   "outputs": [
    {
     "data": {
      "text/plain": [
       "0.29056603773584905"
      ]
     },
     "execution_count": 19,
     "metadata": {},
     "output_type": "execute_result"
    }
   ],
   "source": [
    "score"
   ]
  },
  {
   "cell_type": "code",
   "execution_count": 20,
   "metadata": {},
   "outputs": [
    {
     "data": {
      "text/plain": [
       "array([[40,  0,  3, 26,  2],\n",
       "       [24,  1,  4,  6,  5],\n",
       "       [26,  1,  5, 32,  0],\n",
       "       [31,  1,  8, 22,  0],\n",
       "       [10,  0,  0,  9,  9]], dtype=int64)"
      ]
     },
     "execution_count": 20,
     "metadata": {},
     "output_type": "execute_result"
    }
   ],
   "source": [
    "cm"
   ]
  },
  {
   "cell_type": "markdown",
   "metadata": {},
   "source": [
    "### SVM"
   ]
  },
  {
   "cell_type": "code",
   "execution_count": 22,
   "metadata": {},
   "outputs": [
    {
     "data": {
      "text/plain": [
       "SVC(kernel='linear', random_state=0)"
      ]
     },
     "execution_count": 22,
     "metadata": {},
     "output_type": "execute_result"
    }
   ],
   "source": [
    "sv = SVC( kernel = 'linear' , random_state=0 )\n",
    "sv.fit(x_train,y_train)"
   ]
  },
  {
   "cell_type": "code",
   "execution_count": 23,
   "metadata": {},
   "outputs": [],
   "source": [
    "y_pred = sv.predict(x_test)"
   ]
  },
  {
   "cell_type": "code",
   "execution_count": 24,
   "metadata": {},
   "outputs": [],
   "source": [
    "cm = confusion_matrix(y_test,y_pred)\n",
    "score = accuracy_score(y_test,y_pred)\n",
    "report = classification_report(y_test, y_pred)"
   ]
  },
  {
   "cell_type": "code",
   "execution_count": 25,
   "metadata": {},
   "outputs": [
    {
     "data": {
      "text/plain": [
       "0.32452830188679244"
      ]
     },
     "execution_count": 25,
     "metadata": {},
     "output_type": "execute_result"
    }
   ],
   "source": [
    "score"
   ]
  },
  {
   "cell_type": "code",
   "execution_count": 26,
   "metadata": {},
   "outputs": [
    {
     "data": {
      "text/plain": [
       "array([[67,  0,  4,  0,  0],\n",
       "       [30,  1,  4,  0,  5],\n",
       "       [47,  0, 10,  7,  0],\n",
       "       [53,  0,  9,  0,  0],\n",
       "       [19,  0,  1,  0,  8]], dtype=int64)"
      ]
     },
     "execution_count": 26,
     "metadata": {},
     "output_type": "execute_result"
    }
   ],
   "source": [
    "cm"
   ]
  },
  {
   "cell_type": "markdown",
   "metadata": {},
   "source": [
    "### Implementing CNN"
   ]
  },
  {
   "cell_type": "code",
   "execution_count": 40,
   "metadata": {},
   "outputs": [
    {
     "name": "stderr",
     "output_type": "stream",
     "text": [
      "<ipython-input-40-eac6cabfb9ff>:63: SettingWithCopyWarning: \n",
      "A value is trying to be set on a copy of a slice from a DataFrame\n",
      "\n",
      "See the caveats in the documentation: https://pandas.pydata.org/pandas-docs/stable/user_guide/indexing.html#returning-a-view-versus-a-copy\n",
      "  data['X'][i] += new\n"
     ]
    },
    {
     "name": "stdout",
     "output_type": "stream",
     "text": [
      "Epoch 1/100\n",
      "25/25 [==============================] - 2s 32ms/step - loss: 2.1480 - accuracy: 0.2666\n",
      "Epoch 2/100\n",
      "25/25 [==============================] - 1s 32ms/step - loss: 1.5235 - accuracy: 0.3579\n",
      "Epoch 3/100\n",
      "25/25 [==============================] - 1s 34ms/step - loss: 1.4062 - accuracy: 0.3922\n",
      "Epoch 4/100\n",
      "25/25 [==============================] - 1s 33ms/step - loss: 1.3800 - accuracy: 0.3917\n",
      "Epoch 5/100\n",
      "25/25 [==============================] - 1s 34ms/step - loss: 1.3067 - accuracy: 0.4282\n",
      "Epoch 6/100\n",
      "25/25 [==============================] - 1s 32ms/step - loss: 1.2958 - accuracy: 0.4367\n",
      "Epoch 7/100\n",
      "25/25 [==============================] - 1s 34ms/step - loss: 1.2875 - accuracy: 0.4456\n",
      "Epoch 8/100\n",
      "25/25 [==============================] - 1s 32ms/step - loss: 1.2360 - accuracy: 0.4803 0s - loss: 1.2337 - accu\n",
      "Epoch 9/100\n",
      "25/25 [==============================] - 1s 34ms/step - loss: 1.1750 - accuracy: 0.5039\n",
      "Epoch 10/100\n",
      "25/25 [==============================] - 1s 33ms/step - loss: 1.2066 - accuracy: 0.4800 0s - loss: 1.2028 - accura\n",
      "Epoch 11/100\n",
      "25/25 [==============================] - 1s 35ms/step - loss: 1.1508 - accuracy: 0.4854\n",
      "Epoch 12/100\n",
      "25/25 [==============================] - 1s 33ms/step - loss: 1.1717 - accuracy: 0.4795\n",
      "Epoch 13/100\n",
      "25/25 [==============================] - 1s 33ms/step - loss: 1.1065 - accuracy: 0.5062 0s - loss: 1.0971 - accuracy: \n",
      "Epoch 14/100\n",
      "25/25 [==============================] - 1s 33ms/step - loss: 1.1224 - accuracy: 0.5429\n",
      "Epoch 15/100\n",
      "25/25 [==============================] - 1s 34ms/step - loss: 1.0746 - accuracy: 0.5347\n",
      "Epoch 16/100\n",
      "25/25 [==============================] - 1s 34ms/step - loss: 1.1112 - accuracy: 0.5150\n",
      "Epoch 17/100\n",
      "25/25 [==============================] - 1s 34ms/step - loss: 1.0337 - accuracy: 0.5378\n",
      "Epoch 18/100\n",
      "25/25 [==============================] - 1s 33ms/step - loss: 1.0284 - accuracy: 0.5760 0s - loss: 1.0227 - accuracy: \n",
      "Epoch 19/100\n",
      "25/25 [==============================] - 1s 32ms/step - loss: 0.9924 - accuracy: 0.5813\n",
      "Epoch 20/100\n",
      "25/25 [==============================] - 1s 34ms/step - loss: 1.0105 - accuracy: 0.5591 0s - loss: 1.0066 - accuracy: 0.\n",
      "Epoch 21/100\n",
      "25/25 [==============================] - 1s 32ms/step - loss: 1.0282 - accuracy: 0.5597\n",
      "Epoch 22/100\n",
      "25/25 [==============================] - 1s 33ms/step - loss: 1.0020 - accuracy: 0.5880\n",
      "Epoch 23/100\n",
      "25/25 [==============================] - 1s 33ms/step - loss: 1.0344 - accuracy: 0.5709\n",
      "Epoch 24/100\n",
      "25/25 [==============================] - 1s 35ms/step - loss: 1.0267 - accuracy: 0.5666\n",
      "Epoch 25/100\n",
      "25/25 [==============================] - 1s 34ms/step - loss: 0.9214 - accuracy: 0.6150\n",
      "Epoch 26/100\n",
      "25/25 [==============================] - 1s 35ms/step - loss: 0.9037 - accuracy: 0.6449\n",
      "Epoch 27/100\n",
      "25/25 [==============================] - 1s 34ms/step - loss: 0.9491 - accuracy: 0.6263 0s - loss: 0.9500 - accuracy: 0.\n",
      "Epoch 28/100\n",
      "25/25 [==============================] - 1s 34ms/step - loss: 0.8944 - accuracy: 0.6284\n",
      "Epoch 29/100\n",
      "25/25 [==============================] - 1s 32ms/step - loss: 0.8540 - accuracy: 0.6509 0s - loss: 0.8136 - ac\n",
      "Epoch 30/100\n",
      "25/25 [==============================] - 1s 33ms/step - loss: 0.8836 - accuracy: 0.6487\n",
      "Epoch 31/100\n",
      "25/25 [==============================] - 1s 32ms/step - loss: 0.8432 - accuracy: 0.6557\n",
      "Epoch 32/100\n",
      "25/25 [==============================] - 1s 32ms/step - loss: 0.8843 - accuracy: 0.6634\n",
      "Epoch 33/100\n",
      "25/25 [==============================] - 1s 32ms/step - loss: 0.8743 - accuracy: 0.6479\n",
      "Epoch 34/100\n",
      "25/25 [==============================] - 1s 32ms/step - loss: 0.8378 - accuracy: 0.6752\n",
      "Epoch 35/100\n",
      "25/25 [==============================] - 1s 33ms/step - loss: 0.7763 - accuracy: 0.6709\n",
      "Epoch 36/100\n",
      "25/25 [==============================] - 1s 33ms/step - loss: 0.7959 - accuracy: 0.6815\n",
      "Epoch 37/100\n",
      "25/25 [==============================] - 1s 33ms/step - loss: 0.7819 - accuracy: 0.6777\n",
      "Epoch 38/100\n",
      "25/25 [==============================] - 1s 32ms/step - loss: 0.7291 - accuracy: 0.6964\n",
      "Epoch 39/100\n",
      "25/25 [==============================] - 1s 33ms/step - loss: 0.7346 - accuracy: 0.6790\n",
      "Epoch 40/100\n",
      "25/25 [==============================] - 1s 34ms/step - loss: 0.7793 - accuracy: 0.6581\n",
      "Epoch 41/100\n",
      "25/25 [==============================] - 1s 34ms/step - loss: 0.7378 - accuracy: 0.6887\n",
      "Epoch 42/100\n",
      "25/25 [==============================] - 1s 32ms/step - loss: 0.7071 - accuracy: 0.7194 0s - loss: 0.6745 \n",
      "Epoch 43/100\n",
      "25/25 [==============================] - 1s 33ms/step - loss: 0.7041 - accuracy: 0.7027\n",
      "Epoch 44/100\n",
      "25/25 [==============================] - 1s 33ms/step - loss: 0.7091 - accuracy: 0.6960\n",
      "Epoch 45/100\n",
      "25/25 [==============================] - 1s 33ms/step - loss: 0.6831 - accuracy: 0.7304\n",
      "Epoch 46/100\n",
      "25/25 [==============================] - 1s 33ms/step - loss: 0.6764 - accuracy: 0.7141\n",
      "Epoch 47/100\n",
      "25/25 [==============================] - 1s 33ms/step - loss: 0.6595 - accuracy: 0.7262 0s - loss: 0.6593 - accuracy: 0.\n",
      "Epoch 48/100\n",
      "25/25 [==============================] - 1s 34ms/step - loss: 0.6435 - accuracy: 0.7142\n",
      "Epoch 49/100\n",
      "25/25 [==============================] - 1s 33ms/step - loss: 0.6410 - accuracy: 0.7507\n",
      "Epoch 50/100\n",
      "25/25 [==============================] - 1s 32ms/step - loss: 0.6129 - accuracy: 0.7535\n",
      "Epoch 51/100\n",
      "25/25 [==============================] - 1s 33ms/step - loss: 0.6128 - accuracy: 0.7416\n",
      "Epoch 52/100\n",
      "25/25 [==============================] - 1s 34ms/step - loss: 0.5840 - accuracy: 0.7723\n",
      "Epoch 53/100\n",
      "25/25 [==============================] - 1s 33ms/step - loss: 0.6216 - accuracy: 0.7520\n",
      "Epoch 54/100\n",
      "25/25 [==============================] - 1s 33ms/step - loss: 0.5663 - accuracy: 0.7619\n",
      "Epoch 55/100\n",
      "25/25 [==============================] - 1s 32ms/step - loss: 0.5650 - accuracy: 0.7711\n",
      "Epoch 56/100\n",
      "25/25 [==============================] - 1s 34ms/step - loss: 0.5575 - accuracy: 0.7651\n",
      "Epoch 57/100\n",
      "25/25 [==============================] - 1s 33ms/step - loss: 0.5446 - accuracy: 0.7725 0s - loss: 0.4987 - accura - ETA: 0s - loss: 0.5322 - accuracy\n",
      "Epoch 58/100\n",
      "25/25 [==============================] - 1s 35ms/step - loss: 0.5286 - accuracy: 0.7741\n",
      "Epoch 59/100\n",
      "25/25 [==============================] - 1s 34ms/step - loss: 0.5723 - accuracy: 0.7580\n",
      "Epoch 60/100\n",
      "25/25 [==============================] - 1s 35ms/step - loss: 0.5532 - accuracy: 0.7834\n",
      "Epoch 61/100\n",
      "25/25 [==============================] - 1s 35ms/step - loss: 0.5867 - accuracy: 0.7545\n",
      "Epoch 62/100\n",
      "25/25 [==============================] - 1s 34ms/step - loss: 0.5971 - accuracy: 0.7474\n",
      "Epoch 63/100\n",
      "25/25 [==============================] - 1s 34ms/step - loss: 0.5401 - accuracy: 0.7889\n",
      "Epoch 64/100\n",
      "25/25 [==============================] - 1s 33ms/step - loss: 0.5430 - accuracy: 0.7611\n",
      "Epoch 65/100\n",
      "25/25 [==============================] - 1s 33ms/step - loss: 0.5094 - accuracy: 0.8139\n",
      "Epoch 66/100\n",
      "25/25 [==============================] - 1s 33ms/step - loss: 0.4972 - accuracy: 0.7945 0s - loss: 0.4974 - accuracy\n",
      "Epoch 67/100\n",
      "25/25 [==============================] - 1s 33ms/step - loss: 0.4620 - accuracy: 0.8004\n",
      "Epoch 68/100\n",
      "25/25 [==============================] - 1s 33ms/step - loss: 0.4898 - accuracy: 0.7859\n",
      "Epoch 69/100\n",
      "25/25 [==============================] - 1s 34ms/step - loss: 0.4754 - accuracy: 0.7780\n",
      "Epoch 70/100\n",
      "25/25 [==============================] - 1s 33ms/step - loss: 0.4708 - accuracy: 0.8019\n",
      "Epoch 71/100\n",
      "25/25 [==============================] - 1s 36ms/step - loss: 0.4356 - accuracy: 0.8183\n",
      "Epoch 72/100\n",
      "25/25 [==============================] - 1s 33ms/step - loss: 0.4185 - accuracy: 0.8272\n",
      "Epoch 73/100\n",
      "25/25 [==============================] - 1s 34ms/step - loss: 0.4317 - accuracy: 0.8230 0s - loss: 0.4225 - ac\n",
      "Epoch 74/100\n",
      "25/25 [==============================] - 1s 33ms/step - loss: 0.4270 - accuracy: 0.8272\n",
      "Epoch 75/100\n",
      "25/25 [==============================] - 1s 34ms/step - loss: 0.4427 - accuracy: 0.8292\n",
      "Epoch 76/100\n",
      "25/25 [==============================] - 1s 33ms/step - loss: 0.5113 - accuracy: 0.7829\n",
      "Epoch 77/100\n",
      "25/25 [==============================] - 1s 34ms/step - loss: 0.4251 - accuracy: 0.8324\n",
      "Epoch 78/100\n",
      "25/25 [==============================] - 1s 34ms/step - loss: 0.4478 - accuracy: 0.8234\n",
      "Epoch 79/100\n",
      "25/25 [==============================] - 1s 33ms/step - loss: 0.4424 - accuracy: 0.8167\n",
      "Epoch 80/100\n",
      "25/25 [==============================] - 1s 33ms/step - loss: 0.4409 - accuracy: 0.8209\n",
      "Epoch 81/100\n",
      "25/25 [==============================] - 1s 33ms/step - loss: 0.8093 - accuracy: 0.7032\n",
      "Epoch 82/100\n",
      "25/25 [==============================] - 1s 33ms/step - loss: 0.6303 - accuracy: 0.7470\n",
      "Epoch 83/100\n",
      "25/25 [==============================] - 1s 34ms/step - loss: 0.6112 - accuracy: 0.7743\n",
      "Epoch 84/100\n",
      "25/25 [==============================] - 1s 34ms/step - loss: 0.4935 - accuracy: 0.8271\n",
      "Epoch 85/100\n",
      "25/25 [==============================] - 1s 33ms/step - loss: 0.4263 - accuracy: 0.8450\n",
      "Epoch 86/100\n",
      "25/25 [==============================] - 1s 34ms/step - loss: 0.4262 - accuracy: 0.8154\n",
      "Epoch 87/100\n",
      "25/25 [==============================] - 1s 33ms/step - loss: 0.4018 - accuracy: 0.8337\n",
      "Epoch 88/100\n",
      "25/25 [==============================] - 1s 34ms/step - loss: 0.3771 - accuracy: 0.8590\n",
      "Epoch 89/100\n",
      "25/25 [==============================] - 1s 32ms/step - loss: 0.3825 - accuracy: 0.8284\n",
      "Epoch 90/100\n",
      "25/25 [==============================] - 1s 34ms/step - loss: 0.3634 - accuracy: 0.8547\n",
      "Epoch 91/100\n",
      "25/25 [==============================] - 1s 34ms/step - loss: 0.3328 - accuracy: 0.8427\n",
      "Epoch 92/100\n",
      "25/25 [==============================] - 1s 33ms/step - loss: 0.3404 - accuracy: 0.8674\n",
      "Epoch 93/100\n",
      "25/25 [==============================] - 1s 33ms/step - loss: 0.3282 - accuracy: 0.8769\n",
      "Epoch 94/100\n",
      "25/25 [==============================] - 1s 34ms/step - loss: 0.3070 - accuracy: 0.8833\n",
      "Epoch 95/100\n",
      "25/25 [==============================] - 1s 34ms/step - loss: 0.3262 - accuracy: 0.8832\n",
      "Epoch 96/100\n",
      "25/25 [==============================] - 1s 33ms/step - loss: 0.3395 - accuracy: 0.8641\n",
      "Epoch 97/100\n",
      "25/25 [==============================] - 1s 33ms/step - loss: 0.3237 - accuracy: 0.8551\n",
      "Epoch 98/100\n",
      "25/25 [==============================] - 1s 33ms/step - loss: 0.3074 - accuracy: 0.8762\n",
      "Epoch 99/100\n",
      "25/25 [==============================] - 1s 34ms/step - loss: 0.3296 - accuracy: 0.8756\n",
      "Epoch 100/100\n",
      "25/25 [==============================] - 1s 33ms/step - loss: 0.3208 - accuracy: 0.8672 0s - loss: 0.3162 - accuracy: \n"
     ]
    }
   ],
   "source": [
    "import pickle, glob\n",
    "import numpy as np\n",
    "import pandas as pd\n",
    "\n",
    "path = './*.bin'\n",
    "files = glob.glob(path)\n",
    "signal = [0,0,0,0,0]\n",
    "for i,f in enumerate(files):\n",
    "    with open(f, 'rb') as fp:\n",
    "        signal[i] = pickle.load(fp)\n",
    "\n",
    "\n",
    "signal1 = np.array(signal[4], dtype = 'O')\n",
    "signal2 = np.array(signal[3], dtype = 'O')\n",
    "signal3 = np.array(signal[2], dtype = 'O')\n",
    "signal4 = np.array(signal[1], dtype = 'O')\n",
    "signal5 = np.array(signal[0], dtype = 'O')\n",
    "\n",
    "\n",
    "signal1 = pd.DataFrame(signal1, columns = ['X'])\n",
    "signal1['Y'] = 0\n",
    "\n",
    "signal2 = pd.DataFrame(signal2, columns = ['X'])\n",
    "signal2['Y'] = 1\n",
    "\n",
    "signal3 = pd.DataFrame(signal3, columns = ['X'])\n",
    "signal3['Y'] = 2\n",
    "\n",
    "signal4 = pd.DataFrame(signal4, columns = ['X'])\n",
    "signal4['Y'] = 3\n",
    "\n",
    "signal5 = pd.DataFrame(signal5, columns = ['X'])\n",
    "signal5['Y'] = 4\n",
    "\n",
    "\n",
    "data = signal1.append(signal2, ignore_index = True)\n",
    "data = data.append(signal3, ignore_index = True)\n",
    "data = data.append(signal4, ignore_index = True)\n",
    "data = data.append(signal5, ignore_index = True)\n",
    "\n",
    "'''\n",
    "for i in range(0,len(data)):\n",
    "    t = [str(j) for j in data['X'][i]]\n",
    "    data['X'][i] = ' '.join(t)\n",
    "    \n",
    "x = data['X'].values\n",
    "y = data['Y'].values\n",
    "\n",
    "\n",
    "from sklearn.feature_extraction.text import TfidfVectorizer\n",
    "tf = TfidfVectorizer()\n",
    "x = tf.fit_transform(x).toarray()\n",
    "'''\n",
    "\n",
    "length = data['X'].str.len()\n",
    "m = max(length)\n",
    "\n",
    "\n",
    "for i in range(0,len(data)):\n",
    "    i_length = len(data['X'][i])\n",
    "    if i_length < m:\n",
    "        new = [-10] * (m - i_length)\n",
    "        data['X'][i] += new\n",
    "\n",
    "\n",
    "x = data['X'].values\n",
    "y = data['Y'].values\n",
    "\n",
    "x_new = []\n",
    "for i in x:\n",
    "    x_new.append(i)\n",
    "\n",
    "x_new = np.array(x_new)\n",
    "\n",
    "max_element = np.max(x_new)\n",
    "\n",
    "#x_new = x_new/max_element\n",
    "\n",
    "x_new = np.reshape(x_new, (x_new.shape[0], x_new.shape[1],1))\n",
    "\n",
    "from sklearn.model_selection import train_test_split\n",
    "x_train, x_test, y_train, y_test = train_test_split(x_new, y, test_size = 0.25, random_state = 0)\n",
    "\n",
    "\n",
    "'''\n",
    "ann = tf.keras.models.Sequential()\n",
    "ann.add(tf.keras.layers.Dense(units=10, activation='relu'))\n",
    "ann.add(tf.keras.layers.Dense(units=8, activation='relu'))\n",
    "ann.add(tf.keras.layers.Dense(units=6, activation='relu'))\n",
    "ann.add(tf.keras.layers.Dense(units=5, activation='softmax'))\n",
    "ann.compile(optimizer = 'adam', loss = 'categorical_crossentropy', metrics = ['accuracy'])\n",
    "ann.fit(x_train, y_train, batch_size = 32, epochs = 50)\n",
    "\n",
    "y_pred = ann.predict(x_test)\n",
    "\n",
    "y_p = []\n",
    "for i in y_pred:\n",
    "    m = max(i)\n",
    "    k = list(i).index(m)\n",
    "    y_p.append(k)\n",
    "\n",
    "'''\n",
    "\n",
    "'''\n",
    "from sklearn.linear_model import LogisticRegression\n",
    "classifier = LogisticRegression(random_state = 0)\n",
    "classifier.fit(x_train,y_train)\n",
    "'''\n",
    "\n",
    "\n",
    "\n",
    "from tensorflow.keras.models import Sequential\n",
    "from tensorflow.keras.layers import Dense, Conv1D , MaxPool1D, Flatten, Masking\n",
    "\n",
    "cnn = Sequential()\n",
    "\n",
    "cnn.add(Masking(mask_value = -10))\n",
    "\n",
    "cnn.add(Conv1D(filters= 32, kernel_size= 2, strides= 1, activation='relu'))\n",
    "cnn.add(MaxPool1D(pool_size=2, strides= 1))\n",
    "\n",
    "cnn.add(Conv1D(filters= 32, kernel_size= 2, strides= 1, activation='relu'))\n",
    "cnn.add(MaxPool1D(pool_size=2, strides= 1))\n",
    "\n",
    "cnn.add(Flatten())\n",
    "\n",
    "cnn.add(Dense(units = 100, activation = 'relu'))\n",
    "cnn.add(Dense(units = 50, activation = 'relu'))\n",
    "\n",
    "cnn.add(Dense(units = 5, activation = 'softmax'))\n",
    "\n",
    "cnn.compile(optimizer = 'adam', loss = 'sparse_categorical_crossentropy', metrics = ['accuracy'])\n",
    "\n",
    "cnn.fit(x_train, y_train, epochs = 100, batch_size = 32)\n",
    "y_p = cnn.predict(x_test)\n",
    "\n",
    "\n",
    "y_pred = []\n",
    "\n",
    "for i in y_p:\n",
    "    mx = max(i)\n",
    "    v = list(i).index(mx)\n",
    "    y_pred.append(v)\n",
    "\n",
    "\n",
    "\n",
    "from sklearn.metrics import accuracy_score, confusion_matrix, classification_report\n",
    "cm = confusion_matrix(y_test,y_pred)\n",
    "score = accuracy_score(y_test,y_pred)\n",
    "report = classification_report(y_test, y_pred)"
   ]
  },
  {
   "cell_type": "code",
   "execution_count": 41,
   "metadata": {},
   "outputs": [
    {
     "data": {
      "text/plain": [
       "0.3132075471698113"
      ]
     },
     "execution_count": 41,
     "metadata": {},
     "output_type": "execute_result"
    }
   ],
   "source": [
    "score"
   ]
  },
  {
   "cell_type": "code",
   "execution_count": 42,
   "metadata": {},
   "outputs": [
    {
     "data": {
      "text/plain": [
       "array([[ 9,  2,  5,  1,  7],\n",
       "       [ 1,  9, 11,  2, 22],\n",
       "       [ 4, 15, 15,  6, 20],\n",
       "       [ 3,  2,  8,  9, 18],\n",
       "       [ 6, 14, 31,  4, 41]], dtype=int64)"
      ]
     },
     "execution_count": 42,
     "metadata": {},
     "output_type": "execute_result"
    }
   ],
   "source": [
    "cm"
   ]
  },
  {
   "cell_type": "markdown",
   "metadata": {},
   "source": [
    "### Implementing RNN"
   ]
  },
  {
   "cell_type": "code",
   "execution_count": 45,
   "metadata": {},
   "outputs": [
    {
     "name": "stderr",
     "output_type": "stream",
     "text": [
      "<ipython-input-45-f5d05dd88d00>:71: SettingWithCopyWarning: \n",
      "A value is trying to be set on a copy of a slice from a DataFrame\n",
      "\n",
      "See the caveats in the documentation: https://pandas.pydata.org/pandas-docs/stable/user_guide/indexing.html#returning-a-view-versus-a-copy\n",
      "  data['X'][i] += new\n"
     ]
    },
    {
     "name": "stdout",
     "output_type": "stream",
     "text": [
      "Epoch 1/100\n",
      "25/25 [==============================] - 32s 885ms/step - loss: 0.0000e+00 - accuracy: 0.1941\n",
      "Epoch 2/100\n",
      "25/25 [==============================] - 22s 872ms/step - loss: 0.0000e+00 - accuracy: 0.1965\n",
      "Epoch 3/100\n",
      "25/25 [==============================] - 22s 880ms/step - loss: 0.0000e+00 - accuracy: 0.2119\n",
      "Epoch 4/100\n",
      "25/25 [==============================] - 22s 889ms/step - loss: 0.0000e+00 - accuracy: 0.1915\n",
      "Epoch 5/100\n",
      "25/25 [==============================] - 22s 894ms/step - loss: 0.0000e+00 - accuracy: 0.2229\n",
      "Epoch 6/100\n",
      "25/25 [==============================] - 22s 870ms/step - loss: 0.0000e+00 - accuracy: 0.1904\n",
      "Epoch 7/100\n",
      "25/25 [==============================] - 21s 859ms/step - loss: 0.0000e+00 - accuracy: 0.2094\n",
      "Epoch 8/100\n",
      "25/25 [==============================] - 21s 855ms/step - loss: 0.0000e+00 - accuracy: 0.2115\n",
      "Epoch 9/100\n",
      "25/25 [==============================] - 22s 860ms/step - loss: 0.0000e+00 - accuracy: 0.1877\n",
      "Epoch 10/100\n",
      "25/25 [==============================] - 22s 875ms/step - loss: 0.0000e+00 - accuracy: 0.2221\n",
      "Epoch 11/100\n",
      "25/25 [==============================] - 22s 862ms/step - loss: 0.0000e+00 - accuracy: 0.2207\n",
      "Epoch 12/100\n",
      "25/25 [==============================] - 22s 879ms/step - loss: 0.0000e+00 - accuracy: 0.2061\n",
      "Epoch 13/100\n",
      "25/25 [==============================] - 22s 858ms/step - loss: 0.0000e+00 - accuracy: 0.1889\n",
      "Epoch 14/100\n",
      "25/25 [==============================] - 21s 859ms/step - loss: 0.0000e+00 - accuracy: 0.1997\n",
      "Epoch 15/100\n",
      "25/25 [==============================] - 21s 856ms/step - loss: 0.0000e+00 - accuracy: 0.2055\n",
      "Epoch 16/100\n",
      "25/25 [==============================] - 21s 854ms/step - loss: 0.0000e+00 - accuracy: 0.1984\n",
      "Epoch 17/100\n",
      "25/25 [==============================] - 21s 852ms/step - loss: 0.0000e+00 - accuracy: 0.2145\n",
      "Epoch 18/100\n",
      "25/25 [==============================] - 22s 863ms/step - loss: 0.0000e+00 - accuracy: 0.2053\n",
      "Epoch 19/100\n",
      "25/25 [==============================] - 22s 862ms/step - loss: 0.0000e+00 - accuracy: 0.2055\n",
      "Epoch 20/100\n",
      "25/25 [==============================] - 21s 852ms/step - loss: 0.0000e+00 - accuracy: 0.1912\n",
      "Epoch 21/100\n",
      "25/25 [==============================] - 21s 855ms/step - loss: 0.0000e+00 - accuracy: 0.2079\n",
      "Epoch 22/100\n",
      "25/25 [==============================] - 22s 867ms/step - loss: 0.0000e+00 - accuracy: 0.2010\n",
      "Epoch 23/100\n",
      "25/25 [==============================] - 22s 882ms/step - loss: 0.0000e+00 - accuracy: 0.2186\n",
      "Epoch 24/100\n",
      "25/25 [==============================] - 22s 880ms/step - loss: 0.0000e+00 - accuracy: 0.1830\n",
      "Epoch 25/100\n",
      "25/25 [==============================] - 21s 851ms/step - loss: 0.0000e+00 - accuracy: 0.1910\n",
      "Epoch 26/100\n",
      "25/25 [==============================] - 22s 874ms/step - loss: 0.0000e+00 - accuracy: 0.2038\n",
      "Epoch 27/100\n",
      "25/25 [==============================] - 21s 856ms/step - loss: 0.0000e+00 - accuracy: 0.2040\n",
      "Epoch 28/100\n",
      "25/25 [==============================] - 22s 859ms/step - loss: 0.0000e+00 - accuracy: 0.1972\n",
      "Epoch 29/100\n",
      "25/25 [==============================] - 21s 857ms/step - loss: 0.0000e+00 - accuracy: 0.2057\n",
      "Epoch 30/100\n",
      "25/25 [==============================] - 21s 859ms/step - loss: 0.0000e+00 - accuracy: 0.2101\n",
      "Epoch 31/100\n",
      "25/25 [==============================] - 21s 854ms/step - loss: 0.0000e+00 - accuracy: 0.1940\n",
      "Epoch 32/100\n",
      "25/25 [==============================] - 22s 869ms/step - loss: 0.0000e+00 - accuracy: 0.1911\n",
      "Epoch 33/100\n",
      "25/25 [==============================] - 21s 857ms/step - loss: 0.0000e+00 - accuracy: 0.1911\n",
      "Epoch 34/100\n",
      "25/25 [==============================] - 21s 857ms/step - loss: 0.0000e+00 - accuracy: 0.1949\n",
      "Epoch 35/100\n",
      "25/25 [==============================] - 22s 861ms/step - loss: 0.0000e+00 - accuracy: 0.2147\n",
      "Epoch 36/100\n",
      "25/25 [==============================] - 21s 854ms/step - loss: 0.0000e+00 - accuracy: 0.1946\n",
      "Epoch 37/100\n",
      "25/25 [==============================] - 22s 861ms/step - loss: 0.0000e+00 - accuracy: 0.1984\n",
      "Epoch 38/100\n",
      "25/25 [==============================] - 22s 876ms/step - loss: 0.0000e+00 - accuracy: 0.2213\n",
      "Epoch 39/100\n",
      "25/25 [==============================] - 21s 858ms/step - loss: 0.0000e+00 - accuracy: 0.2214\n",
      "Epoch 40/100\n",
      "25/25 [==============================] - 22s 870ms/step - loss: 0.0000e+00 - accuracy: 0.1860\n",
      "Epoch 41/100\n",
      "25/25 [==============================] - 22s 872ms/step - loss: 0.0000e+00 - accuracy: 0.2035\n",
      "Epoch 42/100\n",
      "25/25 [==============================] - 22s 874ms/step - loss: 0.0000e+00 - accuracy: 0.1896\n",
      "Epoch 43/100\n",
      "25/25 [==============================] - 22s 874ms/step - loss: 0.0000e+00 - accuracy: 0.2095\n",
      "Epoch 44/100\n",
      "25/25 [==============================] - 22s 868ms/step - loss: 0.0000e+00 - accuracy: 0.2067\n",
      "Epoch 45/100\n",
      "25/25 [==============================] - 22s 877ms/step - loss: 0.0000e+00 - accuracy: 0.1923\n",
      "Epoch 46/100\n",
      "25/25 [==============================] - 22s 874ms/step - loss: 0.0000e+00 - accuracy: 0.2011\n",
      "Epoch 47/100\n",
      "25/25 [==============================] - 22s 877ms/step - loss: 0.0000e+00 - accuracy: 0.2250\n",
      "Epoch 48/100\n",
      "25/25 [==============================] - 22s 880ms/step - loss: 0.0000e+00 - accuracy: 0.2103\n",
      "Epoch 49/100\n",
      "25/25 [==============================] - 22s 876ms/step - loss: 0.0000e+00 - accuracy: 0.2036\n",
      "Epoch 50/100\n",
      "25/25 [==============================] - 22s 881ms/step - loss: 0.0000e+00 - accuracy: 0.1829\n",
      "Epoch 51/100\n",
      "25/25 [==============================] - 22s 882ms/step - loss: 0.0000e+00 - accuracy: 0.2041\n",
      "Epoch 52/100\n",
      "25/25 [==============================] - 22s 879ms/step - loss: 0.0000e+00 - accuracy: 0.1974\n",
      "Epoch 53/100\n",
      "25/25 [==============================] - 22s 883ms/step - loss: 0.0000e+00 - accuracy: 0.2024\n",
      "Epoch 54/100\n",
      "25/25 [==============================] - 22s 891ms/step - loss: 0.0000e+00 - accuracy: 0.2009\n",
      "Epoch 55/100\n",
      "25/25 [==============================] - 22s 881ms/step - loss: 0.0000e+00 - accuracy: 0.2113\n",
      "Epoch 56/100\n",
      "25/25 [==============================] - 22s 870ms/step - loss: 0.0000e+00 - accuracy: 0.2130\n",
      "Epoch 57/100\n",
      "25/25 [==============================] - 22s 873ms/step - loss: 0.0000e+00 - accuracy: 0.2015\n",
      "Epoch 58/100\n",
      "25/25 [==============================] - 22s 875ms/step - loss: 0.0000e+00 - accuracy: 0.2061\n",
      "Epoch 59/100\n",
      "25/25 [==============================] - 22s 871ms/step - loss: 0.0000e+00 - accuracy: 0.2209\n",
      "Epoch 60/100\n",
      "25/25 [==============================] - 22s 862ms/step - loss: 0.0000e+00 - accuracy: 0.1812\n",
      "Epoch 61/100\n",
      "25/25 [==============================] - 22s 859ms/step - loss: 0.0000e+00 - accuracy: 0.2219\n",
      "Epoch 62/100\n",
      "25/25 [==============================] - 22s 866ms/step - loss: 0.0000e+00 - accuracy: 0.1965\n",
      "Epoch 63/100\n",
      "25/25 [==============================] - 22s 879ms/step - loss: 0.0000e+00 - accuracy: 0.2042\n",
      "Epoch 64/100\n",
      "25/25 [==============================] - 22s 871ms/step - loss: 0.0000e+00 - accuracy: 0.1827\n",
      "Epoch 65/100\n",
      "25/25 [==============================] - 22s 878ms/step - loss: 0.0000e+00 - accuracy: 0.1941\n",
      "Epoch 66/100\n",
      "25/25 [==============================] - 22s 866ms/step - loss: 0.0000e+00 - accuracy: 0.2028\n",
      "Epoch 67/100\n",
      "25/25 [==============================] - 22s 876ms/step - loss: 0.0000e+00 - accuracy: 0.1902\n",
      "Epoch 68/100\n",
      "25/25 [==============================] - 22s 874ms/step - loss: 0.0000e+00 - accuracy: 0.2042\n",
      "Epoch 69/100\n",
      "25/25 [==============================] - 22s 862ms/step - loss: 0.0000e+00 - accuracy: 0.2015\n",
      "Epoch 70/100\n",
      "25/25 [==============================] - 22s 863ms/step - loss: 0.0000e+00 - accuracy: 0.2174\n",
      "Epoch 71/100\n",
      "25/25 [==============================] - 21s 859ms/step - loss: 0.0000e+00 - accuracy: 0.1947\n",
      "Epoch 72/100\n",
      "25/25 [==============================] - 22s 863ms/step - loss: 0.0000e+00 - accuracy: 0.2274\n",
      "Epoch 73/100\n",
      "25/25 [==============================] - 22s 870ms/step - loss: 0.0000e+00 - accuracy: 0.2063\n",
      "Epoch 74/100\n",
      "25/25 [==============================] - 22s 862ms/step - loss: 0.0000e+00 - accuracy: 0.2001\n",
      "Epoch 75/100\n",
      "25/25 [==============================] - 22s 872ms/step - loss: 0.0000e+00 - accuracy: 0.1859\n",
      "Epoch 76/100\n",
      "25/25 [==============================] - 22s 862ms/step - loss: 0.0000e+00 - accuracy: 0.2151\n",
      "Epoch 77/100\n",
      "25/25 [==============================] - 22s 861ms/step - loss: 0.0000e+00 - accuracy: 0.2073\n",
      "Epoch 78/100\n",
      "25/25 [==============================] - 22s 862ms/step - loss: 0.0000e+00 - accuracy: 0.2071\n",
      "Epoch 79/100\n",
      "25/25 [==============================] - 22s 860ms/step - loss: 0.0000e+00 - accuracy: 0.2349\n",
      "Epoch 80/100\n",
      "25/25 [==============================] - 21s 858ms/step - loss: 0.0000e+00 - accuracy: 0.2200\n",
      "Epoch 81/100\n",
      "25/25 [==============================] - 22s 865ms/step - loss: 0.0000e+00 - accuracy: 0.1923\n",
      "Epoch 82/100\n",
      "25/25 [==============================] - 22s 861ms/step - loss: 0.0000e+00 - accuracy: 0.2058\n",
      "Epoch 83/100\n",
      "25/25 [==============================] - 21s 859ms/step - loss: 0.0000e+00 - accuracy: 0.2126\n",
      "Epoch 84/100\n",
      "25/25 [==============================] - 22s 861ms/step - loss: 0.0000e+00 - accuracy: 0.2072\n",
      "Epoch 85/100\n",
      "25/25 [==============================] - 21s 857ms/step - loss: 0.0000e+00 - accuracy: 0.2074\n",
      "Epoch 86/100\n",
      "25/25 [==============================] - 22s 858ms/step - loss: 0.0000e+00 - accuracy: 0.2023\n",
      "Epoch 87/100\n",
      "25/25 [==============================] - 22s 873ms/step - loss: 0.0000e+00 - accuracy: 0.1994\n",
      "Epoch 88/100\n",
      "25/25 [==============================] - 22s 860ms/step - loss: 0.0000e+00 - accuracy: 0.2015\n",
      "Epoch 89/100\n",
      "25/25 [==============================] - 22s 868ms/step - loss: 0.0000e+00 - accuracy: 0.1986\n",
      "Epoch 90/100\n",
      "25/25 [==============================] - 22s 861ms/step - loss: 0.0000e+00 - accuracy: 0.2120\n",
      "Epoch 91/100\n",
      "25/25 [==============================] - 21s 857ms/step - loss: 0.0000e+00 - accuracy: 0.2171\n",
      "Epoch 92/100\n",
      "25/25 [==============================] - 22s 861ms/step - loss: 0.0000e+00 - accuracy: 0.1830\n",
      "Epoch 93/100\n",
      "25/25 [==============================] - 22s 873ms/step - loss: 0.0000e+00 - accuracy: 0.1918\n",
      "Epoch 94/100\n",
      "25/25 [==============================] - 22s 860ms/step - loss: 0.0000e+00 - accuracy: 0.2206\n",
      "Epoch 95/100\n",
      "25/25 [==============================] - 22s 859ms/step - loss: 0.0000e+00 - accuracy: 0.1952\n",
      "Epoch 96/100\n",
      "25/25 [==============================] - 22s 861ms/step - loss: 0.0000e+00 - accuracy: 0.1932\n",
      "Epoch 97/100\n",
      "25/25 [==============================] - 22s 864ms/step - loss: 0.0000e+00 - accuracy: 0.2083\n",
      "Epoch 98/100\n",
      "25/25 [==============================] - 22s 865ms/step - loss: 0.0000e+00 - accuracy: 0.1943\n",
      "Epoch 99/100\n",
      "25/25 [==============================] - 22s 872ms/step - loss: 0.0000e+00 - accuracy: 0.1982\n",
      "Epoch 100/100\n",
      "25/25 [==============================] - 22s 863ms/step - loss: 0.0000e+00 - accuracy: 0.2087\n"
     ]
    },
    {
     "name": "stderr",
     "output_type": "stream",
     "text": [
      "D:\\anaconda3\\envs\\pytorch\\lib\\site-packages\\sklearn\\metrics\\_classification.py:1245: UndefinedMetricWarning: Precision and F-score are ill-defined and being set to 0.0 in labels with no predicted samples. Use `zero_division` parameter to control this behavior.\n",
      "  _warn_prf(average, modifier, msg_start, len(result))\n",
      "D:\\anaconda3\\envs\\pytorch\\lib\\site-packages\\sklearn\\metrics\\_classification.py:1245: UndefinedMetricWarning: Precision and F-score are ill-defined and being set to 0.0 in labels with no predicted samples. Use `zero_division` parameter to control this behavior.\n",
      "  _warn_prf(average, modifier, msg_start, len(result))\n",
      "D:\\anaconda3\\envs\\pytorch\\lib\\site-packages\\sklearn\\metrics\\_classification.py:1245: UndefinedMetricWarning: Precision and F-score are ill-defined and being set to 0.0 in labels with no predicted samples. Use `zero_division` parameter to control this behavior.\n",
      "  _warn_prf(average, modifier, msg_start, len(result))\n"
     ]
    }
   ],
   "source": [
    "import pickle, glob\n",
    "import numpy as np\n",
    "import pandas as pd\n",
    "\n",
    "path = './*.bin'\n",
    "files = glob.glob(path)\n",
    "signal = [0,0,0,0,0]\n",
    "for i,f in enumerate(files):\n",
    "    with open(f, 'rb') as fp:\n",
    "        signal[i] = pickle.load(fp)\n",
    "\n",
    "\n",
    "signal1 = np.array(signal[4], dtype = 'O')\n",
    "signal2 = np.array(signal[3], dtype = 'O')\n",
    "signal3 = np.array(signal[2], dtype = 'O')\n",
    "signal4 = np.array(signal[1], dtype = 'O')\n",
    "signal5 = np.array(signal[0], dtype = 'O')\n",
    "\n",
    "\n",
    "signal1 = pd.DataFrame(signal1, columns = ['X'])\n",
    "signal1['Y'] = 0\n",
    "\n",
    "signal2 = pd.DataFrame(signal2, columns = ['X'])\n",
    "signal2['Y'] = 1\n",
    "\n",
    "signal3 = pd.DataFrame(signal3, columns = ['X'])\n",
    "signal3['Y'] = 2\n",
    "\n",
    "signal4 = pd.DataFrame(signal4, columns = ['X'])\n",
    "signal4['Y'] = 3\n",
    "\n",
    "signal5 = pd.DataFrame(signal5, columns = ['X'])\n",
    "signal5['Y'] = 4\n",
    "\n",
    "\n",
    "data = signal1.append(signal2, ignore_index = True)\n",
    "data = data.append(signal3, ignore_index = True)\n",
    "data = data.append(signal4, ignore_index = True)\n",
    "data = data.append(signal5, ignore_index = True)\n",
    "\n",
    "'''\n",
    "for i in range(0,len(data)):\n",
    "    t = [str(j) for j in data['X'][i]]\n",
    "    data['X'][i] = ' '.join(t)\n",
    "    \n",
    "x = data['X'].values\n",
    "y = data['Y'].values\n",
    "\n",
    "\n",
    "from sklearn.feature_extraction.text import TfidfVectorizer\n",
    "tf = TfidfVectorizer()\n",
    "x = tf.fit_transform(x).toarray()\n",
    "'''\n",
    "\n",
    "length = data['X'].str.len()\n",
    "m = max(length)\n",
    "\n",
    "\n",
    "for i in range(0,len(data)):\n",
    "    i_length = len(data['X'][i])\n",
    "    if i_length < m:\n",
    "        new = [-10] * (m - i_length)\n",
    "        data['X'][i] += new\n",
    "\n",
    "\n",
    "x = data['X'].values\n",
    "y = data['Y'].values\n",
    "\n",
    "x_new = []\n",
    "for i in x:\n",
    "    x_new.append(i)\n",
    "\n",
    "x_new = np.array(x_new)\n",
    "\n",
    "max_element = np.max(x_new)\n",
    "\n",
    "#x_new = x_new/max_element\n",
    "\n",
    "x_new = np.reshape(x_new, (x_new.shape[0], x_new.shape[1],1))\n",
    "\n",
    "from sklearn.model_selection import train_test_split\n",
    "x_train, x_test, y_train, y_test = train_test_split(x_new, y, test_size = 0.25, random_state = 0)\n",
    "\n",
    "from tensorflow.keras.models import Sequential\n",
    "from tensorflow.keras.layers import Dense , LSTM, Dropout, Masking\n",
    "\n",
    "rnn = Sequential()\n",
    "\n",
    "rnn.add(Masking(mask_value = -10,input_shape = (x_train.shape[1], 1)))\n",
    "rnn.add(LSTM(units = 100, return_sequences=True))\n",
    "rnn.add(Dropout(0.2))\n",
    "\n",
    "rnn.add(LSTM(units = 100, return_sequences=True))\n",
    "rnn.add(Dropout(0.2))\n",
    "\n",
    "rnn.add(LSTM(units = 100))\n",
    "rnn.add(Dropout(0.2))\n",
    "\n",
    "rnn.add(Dense(units = 1, activation = 'softmax'))\n",
    "\n",
    "rnn.compile(optimizer = 'adam', loss = 'categorical_crossentropy', metrics = ['accuracy'])\n",
    "\n",
    "rnn.fit(x_train, y_train, epochs = 100, batch_size = 32)\n",
    "\n",
    "y_pred = rnn.predict(x_test)\n",
    "\n",
    "from sklearn.metrics import accuracy_score, confusion_matrix, classification_report\n",
    "cm = confusion_matrix(y_test,y_pred)\n",
    "score = accuracy_score(y_test,y_pred)\n",
    "report = classification_report(y_test, y_pred)"
   ]
  },
  {
   "cell_type": "code",
   "execution_count": 46,
   "metadata": {},
   "outputs": [
    {
     "data": {
      "text/plain": [
       "0.16981132075471697"
      ]
     },
     "execution_count": 46,
     "metadata": {},
     "output_type": "execute_result"
    }
   ],
   "source": [
    "score"
   ]
  },
  {
   "cell_type": "code",
   "execution_count": 47,
   "metadata": {},
   "outputs": [
    {
     "data": {
      "text/plain": [
       "array([[ 0, 24,  0,  0,  0],\n",
       "       [ 0, 45,  0,  0,  0],\n",
       "       [ 0, 60,  0,  0,  0],\n",
       "       [ 0, 40,  0,  0,  0],\n",
       "       [ 0, 96,  0,  0,  0]], dtype=int64)"
      ]
     },
     "execution_count": 47,
     "metadata": {},
     "output_type": "execute_result"
    }
   ],
   "source": [
    "cm"
   ]
  },
  {
   "cell_type": "markdown",
   "metadata": {},
   "source": [
    "### With Discretization, trying out the models"
   ]
  },
  {
   "cell_type": "code",
   "execution_count": 48,
   "metadata": {},
   "outputs": [],
   "source": [
    "import pickle, glob\n",
    "import numpy as np\n",
    "import pandas as pd\n",
    "from sklearn.model_selection import train_test_split\n",
    "from sklearn.linear_model import LogisticRegression"
   ]
  },
  {
   "cell_type": "code",
   "execution_count": 49,
   "metadata": {},
   "outputs": [],
   "source": [
    "path = './*.bin'\n",
    "files = glob.glob(path)\n",
    "signal = [0,0,0,0,0]\n",
    "for i,f in enumerate(files):\n",
    "    with open(f, 'rb') as fp:\n",
    "        signal[i] = pickle.load(fp)"
   ]
  },
  {
   "cell_type": "code",
   "execution_count": 50,
   "metadata": {},
   "outputs": [],
   "source": [
    "signal1 = np.array(signal[0], dtype = 'O')\n",
    "signal2 = np.array(signal[1], dtype = 'O')\n",
    "signal3 = np.array(signal[2], dtype = 'O')\n",
    "signal4 = np.array(signal[3], dtype = 'O')\n",
    "signal5 = np.array(signal[4], dtype = 'O')"
   ]
  },
  {
   "cell_type": "code",
   "execution_count": 51,
   "metadata": {},
   "outputs": [],
   "source": [
    "signal1 = pd.DataFrame(signal1, columns = ['X'])\n",
    "signal1['Y'] = 0\n",
    "\n",
    "signal2 = pd.DataFrame(signal2, columns = ['X'])\n",
    "signal2['Y'] = 1\n",
    "\n",
    "signal3 = pd.DataFrame(signal3, columns = ['X'])\n",
    "signal3['Y'] = 2\n",
    "\n",
    "signal4 = pd.DataFrame(signal4, columns = ['X'])\n",
    "signal4['Y'] = 3\n",
    "\n",
    "signal5 = pd.DataFrame(signal5, columns = ['X'])\n",
    "signal5['Y'] = 4"
   ]
  },
  {
   "cell_type": "code",
   "execution_count": 52,
   "metadata": {},
   "outputs": [],
   "source": [
    "data = signal1.append(signal2, ignore_index = True)\n",
    "data = data.append(signal3, ignore_index = True)\n",
    "data = data.append(signal4, ignore_index = True)\n",
    "data = data.append(signal5, ignore_index = True)"
   ]
  },
  {
   "cell_type": "code",
   "execution_count": 53,
   "metadata": {},
   "outputs": [
    {
     "data": {
      "text/html": [
       "<div>\n",
       "<style scoped>\n",
       "    .dataframe tbody tr th:only-of-type {\n",
       "        vertical-align: middle;\n",
       "    }\n",
       "\n",
       "    .dataframe tbody tr th {\n",
       "        vertical-align: top;\n",
       "    }\n",
       "\n",
       "    .dataframe thead th {\n",
       "        text-align: right;\n",
       "    }\n",
       "</style>\n",
       "<table border=\"1\" class=\"dataframe\">\n",
       "  <thead>\n",
       "    <tr style=\"text-align: right;\">\n",
       "      <th></th>\n",
       "      <th>X</th>\n",
       "      <th>Y</th>\n",
       "    </tr>\n",
       "  </thead>\n",
       "  <tbody>\n",
       "    <tr>\n",
       "      <th>0</th>\n",
       "      <td>[60.63778305053711, 60.53467178344727, 60.7472...</td>\n",
       "      <td>0</td>\n",
       "    </tr>\n",
       "    <tr>\n",
       "      <th>1</th>\n",
       "      <td>[2.22484302520752, 1.474851489067078, 0.970637...</td>\n",
       "      <td>0</td>\n",
       "    </tr>\n",
       "    <tr>\n",
       "      <th>2</th>\n",
       "      <td>[1.382016181945801, 0.9838278889656067, 1.5994...</td>\n",
       "      <td>0</td>\n",
       "    </tr>\n",
       "    <tr>\n",
       "      <th>3</th>\n",
       "      <td>[64.96823120117188, 64.86775207519531, 62.7523...</td>\n",
       "      <td>0</td>\n",
       "    </tr>\n",
       "    <tr>\n",
       "      <th>4</th>\n",
       "      <td>[26.47737503051758, 27.5166072845459, 28.87783...</td>\n",
       "      <td>0</td>\n",
       "    </tr>\n",
       "    <tr>\n",
       "      <th>...</th>\n",
       "      <td>...</td>\n",
       "      <td>...</td>\n",
       "    </tr>\n",
       "    <tr>\n",
       "      <th>1053</th>\n",
       "      <td>[3.033940315246582, 2.313158512115479, 2.31514...</td>\n",
       "      <td>4</td>\n",
       "    </tr>\n",
       "    <tr>\n",
       "      <th>1054</th>\n",
       "      <td>[54.61786270141602, 54.92446517944336, 55.2440...</td>\n",
       "      <td>4</td>\n",
       "    </tr>\n",
       "    <tr>\n",
       "      <th>1055</th>\n",
       "      <td>[49.94552612304688, 50.17890167236328, 49.8320...</td>\n",
       "      <td>4</td>\n",
       "    </tr>\n",
       "    <tr>\n",
       "      <th>1056</th>\n",
       "      <td>[59.90553665161133, 59.5039176940918, 59.91153...</td>\n",
       "      <td>4</td>\n",
       "    </tr>\n",
       "    <tr>\n",
       "      <th>1057</th>\n",
       "      <td>[57.41999816894531, 58.49517822265625, 59.8477...</td>\n",
       "      <td>4</td>\n",
       "    </tr>\n",
       "  </tbody>\n",
       "</table>\n",
       "<p>1058 rows × 2 columns</p>\n",
       "</div>"
      ],
      "text/plain": [
       "                                                      X  Y\n",
       "0     [60.63778305053711, 60.53467178344727, 60.7472...  0\n",
       "1     [2.22484302520752, 1.474851489067078, 0.970637...  0\n",
       "2     [1.382016181945801, 0.9838278889656067, 1.5994...  0\n",
       "3     [64.96823120117188, 64.86775207519531, 62.7523...  0\n",
       "4     [26.47737503051758, 27.5166072845459, 28.87783...  0\n",
       "...                                                 ... ..\n",
       "1053  [3.033940315246582, 2.313158512115479, 2.31514...  4\n",
       "1054  [54.61786270141602, 54.92446517944336, 55.2440...  4\n",
       "1055  [49.94552612304688, 50.17890167236328, 49.8320...  4\n",
       "1056  [59.90553665161133, 59.5039176940918, 59.91153...  4\n",
       "1057  [57.41999816894531, 58.49517822265625, 59.8477...  4\n",
       "\n",
       "[1058 rows x 2 columns]"
      ]
     },
     "execution_count": 53,
     "metadata": {},
     "output_type": "execute_result"
    }
   ],
   "source": [
    "data"
   ]
  },
  {
   "cell_type": "code",
   "execution_count": 54,
   "metadata": {},
   "outputs": [],
   "source": [
    "length = data['X'].str.len()\n",
    "m= max(length)\n",
    "\n",
    "x = []\n",
    "for i in range(0,len(data)):\n",
    "    i_length = len(data['X'][i])\n",
    "    old = data['X'][i]\n",
    "    if i_length < m:\n",
    "        new = [0] * (m - i_length)\n",
    "        x.append(old + new)\n",
    "    else:\n",
    "        x.append(old)"
   ]
  },
  {
   "cell_type": "code",
   "execution_count": 55,
   "metadata": {},
   "outputs": [],
   "source": [
    "x = np.array(x)\n",
    "y = data['Y'].values\n",
    "df = pd.DataFrame(x)\n",
    "df['y'] = y\n",
    "df = df.drop('y', axis = 1)"
   ]
  },
  {
   "cell_type": "code",
   "execution_count": 56,
   "metadata": {},
   "outputs": [],
   "source": [
    "def r(a):\n",
    "    return round(a,2)\n",
    "\n",
    "for i in range(0,477):\n",
    "    df[i] = df[i].apply(r)"
   ]
  },
  {
   "cell_type": "code",
   "execution_count": 57,
   "metadata": {},
   "outputs": [],
   "source": [
    "df['y'] = data['Y'].values"
   ]
  },
  {
   "cell_type": "code",
   "execution_count": 58,
   "metadata": {},
   "outputs": [],
   "source": [
    "df['y']\n",
    "df.to_csv(\"d.csv\", index=False)"
   ]
  },
  {
   "cell_type": "code",
   "execution_count": 59,
   "metadata": {},
   "outputs": [],
   "source": [
    "data = pd.read_csv('d.csv')"
   ]
  },
  {
   "cell_type": "code",
   "execution_count": 60,
   "metadata": {},
   "outputs": [],
   "source": [
    "X = data.iloc[:, :-1].values\n",
    "y = data.iloc[:, -1].values"
   ]
  },
  {
   "cell_type": "code",
   "execution_count": 61,
   "metadata": {},
   "outputs": [],
   "source": [
    "from sklearn.model_selection import train_test_split\n",
    "x_train, x_test, y_train, y_test = train_test_split(X,y, test_size = 0.25, random_state =0)"
   ]
  },
  {
   "cell_type": "code",
   "execution_count": 66,
   "metadata": {},
   "outputs": [
    {
     "name": "stdout",
     "output_type": "stream",
     "text": [
      "Accuracy: 0.343 (0.044)\n"
     ]
    }
   ],
   "source": [
    "from sklearn.preprocessing import LabelEncoder\n",
    "from sklearn.preprocessing import KBinsDiscretizer\n",
    "from sklearn.pipeline import Pipeline\n",
    "# ensure inputs are floats and output is an integer label\n",
    "X = X.astype('float32')\n",
    "y = LabelEncoder().fit_transform(y.astype('str'))\n",
    "# define the pipeline\n",
    "trans = KBinsDiscretizer(n_bins=10, encode='ordinal', strategy='uniform')\n",
    "model = KNeighborsClassifier()\n",
    "pipeline = Pipeline(steps=[('t', trans), ('m', model)])\n",
    "# evaluate the pipeline\n",
    "cv = RepeatedStratifiedKFold(n_splits=10, n_repeats=3, random_state=1)\n",
    "n_scores = cross_val_score(pipeline, x_train, y_train, scoring='accuracy', cv=cv, n_jobs=-1, error_score='raise')\n",
    "# report pipeline performance\n",
    "print('Accuracy: %.3f (%.3f)' % (mean(n_scores), std(n_scores)))"
   ]
  }
 ],
 "metadata": {
  "kernelspec": {
   "display_name": "Python 3",
   "language": "python",
   "name": "python3"
  },
  "language_info": {
   "codemirror_mode": {
    "name": "ipython",
    "version": 3
   },
   "file_extension": ".py",
   "mimetype": "text/x-python",
   "name": "python",
   "nbconvert_exporter": "python",
   "pygments_lexer": "ipython3",
   "version": "3.8.3"
  }
 },
 "nbformat": 4,
 "nbformat_minor": 5
}
